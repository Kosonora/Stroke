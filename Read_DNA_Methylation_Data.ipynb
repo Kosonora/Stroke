{
 "cells": [
  {
   "cell_type": "code",
   "execution_count": 1,
   "id": "764a62f7-c53f-424c-8efb-4bec1ac00d7a",
   "metadata": {
    "execution": {
     "iopub.execute_input": "2024-10-22T02:47:28.576064Z",
     "iopub.status.busy": "2024-10-22T02:47:28.575689Z",
     "iopub.status.idle": "2024-10-22T02:47:28.582664Z",
     "shell.execute_reply": "2024-10-22T02:47:28.581881Z",
     "shell.execute_reply.started": "2024-10-22T02:47:28.576039Z"
    },
    "tags": []
   },
   "outputs": [],
   "source": [
    "#关闭警告信息\n",
    "import warnings  \n",
    "warnings.filterwarnings(\"ignore\")"
   ]
  },
  {
   "cell_type": "code",
   "execution_count": null,
   "id": "27491f10-9a54-49f9-a944-89d87fc570ba",
   "metadata": {
    "tags": []
   },
   "outputs": [],
   "source": [
    "#测试GPU可用性\n",
    "import tensorflow as tf\n",
    "print('GPU可用性:',tf.test.is_gpu_available())"
   ]
  },
  {
   "cell_type": "markdown",
   "id": "42e35770-1b4a-4db8-a912-689b63c74cb4",
   "metadata": {},
   "source": [
    "读取DNA甲基化数据，由于数据集较大，因此我们读取前5W个甲基化位点"
   ]
  },
  {
   "cell_type": "code",
   "execution_count": 5,
   "id": "f14a9f77-6006-48c6-ae16-c2295ec18c8b",
   "metadata": {
    "ExecutionIndicator": {
     "show": false
    },
    "execution": {
     "iopub.execute_input": "2024-10-22T02:54:25.164177Z",
     "iopub.status.busy": "2024-10-22T02:54:25.163769Z",
     "iopub.status.idle": "2024-10-22T02:58:44.239446Z",
     "shell.execute_reply": "2024-10-22T02:58:44.238786Z",
     "shell.execute_reply.started": "2024-10-22T02:54:25.164149Z"
    },
    "tags": []
   },
   "outputs": [],
   "source": [
    "#数据读取\n",
    "import numpy as np\n",
    "import pandas as pd\n",
    "#本次取100000条数据\n",
    "chunks=100000\n",
    "traindata = pd.read_csv('/mnt/workspace/DNA_methylation_Data/traindata.csv',skiprows=99999,nrows=chunks)    #读取训练集\n",
    "trainmap = pd.read_csv('/mnt/workspace/DNA_methylation_Data/trainmap.csv')"
   ]
  },
  {
   "cell_type": "code",
   "execution_count": 7,
   "id": "e0cab344-145a-46ed-b7a5-2978985c60e3",
   "metadata": {
    "execution": {
     "iopub.execute_input": "2024-10-22T03:00:02.519375Z",
     "iopub.status.busy": "2024-10-22T03:00:02.518961Z",
     "iopub.status.idle": "2024-10-22T03:00:02.522992Z",
     "shell.execute_reply": "2024-10-22T03:00:02.522320Z",
     "shell.execute_reply.started": "2024-10-22T03:00:02.519351Z"
    },
    "tags": []
   },
   "outputs": [],
   "source": [
    "#获取基因ID\n",
    "CG_ID=traindata.iloc[:chunks,0]"
   ]
  },
  {
   "cell_type": "code",
   "execution_count": 8,
   "id": "201361e1-28e0-4272-9749-3cfa723636e8",
   "metadata": {
    "execution": {
     "iopub.execute_input": "2024-10-22T03:00:18.657071Z",
     "iopub.status.busy": "2024-10-22T03:00:18.656640Z",
     "iopub.status.idle": "2024-10-22T03:00:40.011382Z",
     "shell.execute_reply": "2024-10-22T03:00:40.002847Z",
     "shell.execute_reply.started": "2024-10-22T03:00:18.657041Z"
    },
    "tags": []
   },
   "outputs": [],
   "source": [
    "#数据预处理函数\n",
    "#预处理训练集\n",
    "traindata = traindata.set_index('cpgsite')\n",
    "traindata = traindata.T\n",
    "traindata = traindata.reset_index()\n",
    "traindata = traindata.rename(columns={'index':'sample_id'})\n",
    "traindata.columns = ['sample_id'] + [i for i in range(chunks)]"
   ]
  },
  {
   "cell_type": "code",
   "execution_count": 10,
   "id": "2f30aa56-f9b2-4d24-a63f-afbc6d907710",
   "metadata": {
    "ExecutionIndicator": {
     "show": false
    },
    "execution": {
     "iopub.execute_input": "2024-10-22T03:02:25.289535Z",
     "iopub.status.busy": "2024-10-22T03:02:25.289121Z",
     "iopub.status.idle": "2024-10-22T03:02:52.665073Z",
     "shell.execute_reply": "2024-10-22T03:02:52.664365Z",
     "shell.execute_reply.started": "2024-10-22T03:02:25.289510Z"
    },
    "tags": []
   },
   "outputs": [],
   "source": [
    "#输出甲基化数据\n",
    "traindata.to_pickle('/mnt/workspace/DNA_methylation_Data/Analysis_Data_pkl/DNA_Methylation_Data.pkl')"
   ]
  },
  {
   "cell_type": "code",
   "execution_count": 13,
   "id": "dac25bb2-220f-4493-92d4-11caf00defe4",
   "metadata": {
    "execution": {
     "iopub.execute_input": "2024-10-22T03:06:27.358617Z",
     "iopub.status.busy": "2024-10-22T03:06:27.358178Z",
     "iopub.status.idle": "2024-10-22T03:06:35.955742Z",
     "shell.execute_reply": "2024-10-22T03:06:35.955116Z",
     "shell.execute_reply.started": "2024-10-22T03:06:27.358586Z"
    },
    "tags": []
   },
   "outputs": [],
   "source": [
    "#输出甲基化位点编码数据\n",
    "CG_ID.to_excel('/mnt/workspace/DNA_methylation_Data/Analysis_Data_pkl/DNA_Methylation_CG.xlsx','UTF-8')"
   ]
  }
 ],
 "metadata": {
  "kernelspec": {
   "display_name": "Python 3 (ipykernel)",
   "language": "python",
   "name": "python3"
  },
  "language_info": {
   "codemirror_mode": {
    "name": "ipython",
    "version": 3
   },
   "file_extension": ".py",
   "mimetype": "text/x-python",
   "name": "python",
   "nbconvert_exporter": "python",
   "pygments_lexer": "ipython3",
   "version": "3.11.5"
  }
 },
 "nbformat": 4,
 "nbformat_minor": 5
}
